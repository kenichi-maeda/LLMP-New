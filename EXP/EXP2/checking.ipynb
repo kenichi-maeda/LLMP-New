{
 "cells": [
  {
   "cell_type": "code",
   "execution_count": 1,
   "metadata": {},
   "outputs": [
    {
     "name": "stdout",
     "output_type": "stream",
     "text": [
      "\n",
      "--- Generating images for task: pie ---\n",
      "Task pie generation completed with 3039 iterations.\n",
      "\n",
      "--- Generating images for task: bar ---\n",
      "Task bar generation completed with 2814 iterations.\n",
      "Saving train dataset. Example entry: {'id': '1968ec73-bf50-459a-b4d2-cddfcbbac372', 'image': 'images/pie_1968ec73-bf50-459a-b4d2-cddfcbbac372.jpg', 'task': 'pie', 'question': 'The pie chart you are looking at is created as follows: First, create a list of five values where each value is between 3 and 39, and all values add up to 100. Next, divide each value in the list by the largest value, so that the largest value becomes 1.0. Now, look at the pie chart again. Identify the largest segment, which is marked with a dot. Go counterclockwise around the pie starting from the largest segment, estimating the ratio of the other four values to the maximum. Format your answer as [1.0, x.x, x.x, x.x, x.x].', 'value': [1.0, 0.1794871836900711, 0.3333333432674408, 0.6153846383094788, 0.43589743971824646]}\n",
      "Train dataset saved as 'train_dataset.json' in './checking/json'\n",
      "Saving val dataset. Example entry: {'id': '0407fcc7-e82d-432f-b2b4-087744e11c26', 'image': 'images/pie_0407fcc7-e82d-432f-b2b4-087744e11c26.jpg', 'task': 'pie', 'question': 'The pie chart you are looking at is created as follows: First, create a list of five values where each value is between 3 and 39, and all values add up to 100. Next, divide each value in the list by the largest value, so that the largest value becomes 1.0. Now, look at the pie chart again. Identify the largest segment, which is marked with a dot. Go counterclockwise around the pie starting from the largest segment, estimating the ratio of the other four values to the maximum. Format your answer as [1.0, x.x, x.x, x.x, x.x].', 'value': [1.0, 0.7333333492279053, 0.5333333611488342, 0.1666666716337204, 0.8999999761581421]}\n",
      "Val dataset saved as 'val_dataset.json' in './checking/json'\n",
      "Saving test dataset. Example entry: {'id': '977878ad-9310-455c-85b5-225df171f705', 'image': 'images/pie_977878ad-9310-455c-85b5-225df171f705.jpg', 'task': 'pie', 'question': 'The pie chart you are looking at is created as follows: First, create a list of five values where each value is between 3 and 39, and all values add up to 100. Next, divide each value in the list by the largest value, so that the largest value becomes 1.0. Now, look at the pie chart again. Identify the largest segment, which is marked with a dot. Go counterclockwise around the pie starting from the largest segment, estimating the ratio of the other four values to the maximum. Format your answer as [1.0, x.x, x.x, x.x, x.x].', 'value': [1.0, 0.4545454680919647, 0.1515151560306549, 0.7878788113594055, 0.6363636255264282]}\n",
      "Test dataset saved as 'test_dataset.json' in './checking/json'\n",
      "Saving train dataset. Example entry: {'id': '1968ec73-bf50-459a-b4d2-cddfcbbac372', 'image': 'images/pie_1968ec73-bf50-459a-b4d2-cddfcbbac372.jpg', 'task': 'pie', 'question': 'The pie chart you are looking at is created as follows: First, create a list of five values where each value is between 3 and 39, and all values add up to 100. Next, divide each value in the list by the largest value, so that the largest value becomes 1.0. Now, look at the pie chart again. Identify the largest segment, which is marked with a dot. Go counterclockwise around the pie starting from the largest segment, estimating the ratio of the other four values to the maximum. Format your answer as [1.0, x.x, x.x, x.x, x.x].', 'value': [1.0, 0.1794871836900711, 0.3333333432674408, 0.6153846383094788, 0.43589743971824646]}\n",
      "Train dataset saved as 'train_dataset.json' in './checking/json'\n",
      "Saving val dataset. Example entry: {'id': '0407fcc7-e82d-432f-b2b4-087744e11c26', 'image': 'images/pie_0407fcc7-e82d-432f-b2b4-087744e11c26.jpg', 'task': 'pie', 'question': 'The pie chart you are looking at is created as follows: First, create a list of five values where each value is between 3 and 39, and all values add up to 100. Next, divide each value in the list by the largest value, so that the largest value becomes 1.0. Now, look at the pie chart again. Identify the largest segment, which is marked with a dot. Go counterclockwise around the pie starting from the largest segment, estimating the ratio of the other four values to the maximum. Format your answer as [1.0, x.x, x.x, x.x, x.x].', 'value': [1.0, 0.7333333492279053, 0.5333333611488342, 0.1666666716337204, 0.8999999761581421]}\n",
      "Val dataset saved as 'val_dataset.json' in './checking/json'\n",
      "Saving test dataset. Example entry: {'id': '977878ad-9310-455c-85b5-225df171f705', 'image': 'images/pie_977878ad-9310-455c-85b5-225df171f705.jpg', 'task': 'pie', 'question': 'The pie chart you are looking at is created as follows: First, create a list of five values where each value is between 3 and 39, and all values add up to 100. Next, divide each value in the list by the largest value, so that the largest value becomes 1.0. Now, look at the pie chart again. Identify the largest segment, which is marked with a dot. Go counterclockwise around the pie starting from the largest segment, estimating the ratio of the other four values to the maximum. Format your answer as [1.0, x.x, x.x, x.x, x.x].', 'value': [1.0, 0.4545454680919647, 0.1515151560306549, 0.7878788113594055, 0.6363636255264282]}\n",
      "Test dataset saved as 'test_dataset.json' in './checking/json'\n"
     ]
    }
   ],
   "source": [
    "from EXP2fullprogress import generate_dataset_exp2\n",
    "\n",
    "main_output_dir=\"./checkingoverlap\"\n",
    "\n",
    "images_per_task = 5000\n",
    "\n",
    "generate_dataset_exp2(main_output_dir, images_per_task)"
   ]
  },
  {
   "cell_type": "code",
   "execution_count": 2,
   "metadata": {},
   "outputs": [
    {
     "name": "stdout",
     "output_type": "stream",
     "text": [
      "\n",
      "==================================================\n",
      "               DATASET SUMMARY\n",
      "==================================================\n",
      "\n",
      "📊 Total Images per Dataset:\n",
      "----------------------------------------\n",
      "🔵 Training:    2,000 images\n",
      "🟡 Validation:  400 images\n",
      "🟢 Testing:     200 images\n",
      "📈 Total:       2,600 images\n",
      "\n",
      "==================================================\n",
      "               TASK DISTRIBUTION\n",
      "==================================================\n",
      "\n",
      "| Dataset      | Task                   | Image Count |\n",
      "|------------|------------------------|-------------|\n",
      "| 🔵 Training | pie                    |        1000 |\n",
      "| 🔵 Training | bar                    |        1000 |\n",
      "| 🟡 Valid    | pie                    |         200 |\n",
      "| 🟡 Valid    | bar                    |         200 |\n",
      "| 🟢 Test     | pie                    |         100 |\n",
      "| 🟢 Test     | bar                    |         100 |\n",
      "\n",
      "==================================================\n",
      "               OVERLAP ANALYSIS\n",
      "==================================================\n",
      "✅ No overlap between Training and Validation\n",
      "✅ No overlap between Training and Testing\n",
      "✅ No overlap between Validation and Testing\n",
      "\n",
      "==================================================\n",
      "               UNIQUE LABELS\n",
      "==================================================\n",
      "\n",
      "| Dataset      | Total Unique Labels |\n",
      "|------------|-------------------|\n",
      "| 🔵 Training |              1878 |\n",
      "| 🟡 Valid    |               397 |\n",
      "| 🟢 Test     |               200 |\n",
      "\n",
      "==================================================\n"
     ]
    }
   ],
   "source": [
    "from EXP2fullprogress import verify_dataset\n",
    "\n",
    "verify_dataset(main_output_dir)\n",
    "\n"
   ]
  }
 ],
 "metadata": {
  "kernelspec": {
   "display_name": "sbatch2",
   "language": "python",
   "name": "python3"
  },
  "language_info": {
   "codemirror_mode": {
    "name": "ipython",
    "version": 3
   },
   "file_extension": ".py",
   "mimetype": "text/x-python",
   "name": "python",
   "nbconvert_exporter": "python",
   "pygments_lexer": "ipython3",
   "version": "3.10.13"
  }
 },
 "nbformat": 4,
 "nbformat_minor": 2
}
