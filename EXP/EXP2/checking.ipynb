{
 "cells": [
  {
   "cell_type": "code",
   "execution_count": 1,
   "metadata": {},
   "outputs": [
    {
     "name": "stdout",
     "output_type": "stream",
     "text": [
      "\n",
      "--- Generating images for task: pie ---\n",
      "Task pie generation completed with 13784 iterations.\n",
      "\n",
      "--- Generating images for task: bar ---\n",
      "Task bar generation completed with 12689 iterations.\n",
      "Saving train dataset. Example entry: {'id': 'da426e3c-bb77-4285-82b2-54ca8b36c6ab', 'image': 'images/pie_da426e3c-bb77-4285-82b2-54ca8b36c6ab.jpg', 'task': 'pie', 'question': 'The pie chart you are looking at is created as follows: First, create a list of five values where each value is between 3 and 39, and all values add up to 100. Next, divide each value in the list by the largest value, so that the largest value becomes 1.0. Now, look at the pie chart again. Identify the largest segment, which is marked with a dot. Go counterclockwise around the pie starting from the largest segment, estimating the ratio of the other four values to the maximum. Format your answer as [1.0, x.x, x.x, x.x, x.x].', 'value': [1.0, 0.5526315569877625, 0.3684210479259491, 0.2631579041481018, 0.44736841320991516]}\n",
      "Train dataset saved as 'train_dataset.json' in './checkingoverlap/json'\n",
      "Saving val dataset. Example entry: {'id': 'ab44a3dc-efd4-4c24-8835-26f46e7869d7', 'image': 'images/pie_ab44a3dc-efd4-4c24-8835-26f46e7869d7.jpg', 'task': 'pie', 'question': 'The pie chart you are looking at is created as follows: First, create a list of five values where each value is between 3 and 39, and all values add up to 100. Next, divide each value in the list by the largest value, so that the largest value becomes 1.0. Now, look at the pie chart again. Identify the largest segment, which is marked with a dot. Go counterclockwise around the pie starting from the largest segment, estimating the ratio of the other four values to the maximum. Format your answer as [1.0, x.x, x.x, x.x, x.x].', 'value': [1.0, 0.800000011920929, 0.6571428775787354, 0.2857142984867096, 0.11428571492433548]}\n",
      "Val dataset saved as 'val_dataset.json' in './checkingoverlap/json'\n",
      "Saving test dataset. Example entry: {'id': 'a860a3bb-892c-4743-969d-693aa7830a37', 'image': 'images/pie_a860a3bb-892c-4743-969d-693aa7830a37.jpg', 'task': 'pie', 'question': 'The pie chart you are looking at is created as follows: First, create a list of five values where each value is between 3 and 39, and all values add up to 100. Next, divide each value in the list by the largest value, so that the largest value becomes 1.0. Now, look at the pie chart again. Identify the largest segment, which is marked with a dot. Go counterclockwise around the pie starting from the largest segment, estimating the ratio of the other four values to the maximum. Format your answer as [1.0, x.x, x.x, x.x, x.x].', 'value': [1.0, 0.8181818127632141, 0.1515151560306549, 0.4848484992980957, 0.5757575631141663]}\n",
      "Test dataset saved as 'test_dataset.json' in './checkingoverlap/json'\n",
      "Saving train dataset. Example entry: {'id': 'da426e3c-bb77-4285-82b2-54ca8b36c6ab', 'image': 'images/pie_da426e3c-bb77-4285-82b2-54ca8b36c6ab.jpg', 'task': 'pie', 'question': 'The pie chart you are looking at is created as follows: First, create a list of five values where each value is between 3 and 39, and all values add up to 100. Next, divide each value in the list by the largest value, so that the largest value becomes 1.0. Now, look at the pie chart again. Identify the largest segment, which is marked with a dot. Go counterclockwise around the pie starting from the largest segment, estimating the ratio of the other four values to the maximum. Format your answer as [1.0, x.x, x.x, x.x, x.x].', 'value': [1.0, 0.5526315569877625, 0.3684210479259491, 0.2631579041481018, 0.44736841320991516]}\n",
      "Train dataset saved as 'train_dataset.json' in './checkingoverlap/json'\n",
      "Saving val dataset. Example entry: {'id': 'ab44a3dc-efd4-4c24-8835-26f46e7869d7', 'image': 'images/pie_ab44a3dc-efd4-4c24-8835-26f46e7869d7.jpg', 'task': 'pie', 'question': 'The pie chart you are looking at is created as follows: First, create a list of five values where each value is between 3 and 39, and all values add up to 100. Next, divide each value in the list by the largest value, so that the largest value becomes 1.0. Now, look at the pie chart again. Identify the largest segment, which is marked with a dot. Go counterclockwise around the pie starting from the largest segment, estimating the ratio of the other four values to the maximum. Format your answer as [1.0, x.x, x.x, x.x, x.x].', 'value': [1.0, 0.800000011920929, 0.6571428775787354, 0.2857142984867096, 0.11428571492433548]}\n",
      "Val dataset saved as 'val_dataset.json' in './checkingoverlap/json'\n",
      "Saving test dataset. Example entry: {'id': 'a860a3bb-892c-4743-969d-693aa7830a37', 'image': 'images/pie_a860a3bb-892c-4743-969d-693aa7830a37.jpg', 'task': 'pie', 'question': 'The pie chart you are looking at is created as follows: First, create a list of five values where each value is between 3 and 39, and all values add up to 100. Next, divide each value in the list by the largest value, so that the largest value becomes 1.0. Now, look at the pie chart again. Identify the largest segment, which is marked with a dot. Go counterclockwise around the pie starting from the largest segment, estimating the ratio of the other four values to the maximum. Format your answer as [1.0, x.x, x.x, x.x, x.x].', 'value': [1.0, 0.8181818127632141, 0.1515151560306549, 0.4848484992980957, 0.5757575631141663]}\n",
      "Test dataset saved as 'test_dataset.json' in './checkingoverlap/json'\n"
     ]
    }
   ],
   "source": [
    "from EXP2fullprogress import generate_dataset_exp2\n",
    "\n",
    "main_output_dir=\"./checkingoverlap\"\n",
    "\n",
    "images_per_task = 5000\n",
    "\n",
    "generate_dataset_exp2(main_output_dir, images_per_task)"
   ]
  },
  {
   "cell_type": "code",
   "execution_count": null,
   "metadata": {},
   "outputs": [
    {
     "name": "stdout",
     "output_type": "stream",
     "text": [
      "\n",
      "==================================================\n",
      "               DATASET SUMMARY\n",
      "==================================================\n",
      "\n",
      "📊 Total Images per Dataset:\n",
      "----------------------------------------\n",
      "🔵 Training:    10,000 images\n",
      "🟡 Validation:  2,000 images\n",
      "🟢 Testing:     1,000 images\n",
      "📈 Total:       13,000 images\n",
      "\n",
      "==================================================\n",
      "               TASK DISTRIBUTION\n",
      "==================================================\n",
      "\n",
      "| Dataset      | Task                   | Image Count |\n",
      "|------------|------------------------|-------------|\n",
      "| 🔵 Training | pie                    |        5000 |\n",
      "| 🔵 Training | bar                    |        5000 |\n",
      "| 🟡 Valid    | pie                    |        1000 |\n",
      "| 🟡 Valid    | bar                    |        1000 |\n",
      "| 🟢 Test     | pie                    |         500 |\n",
      "| 🟢 Test     | bar                    |         500 |\n",
      "\n",
      "==================================================\n",
      "               OVERLAP ANALYSIS\n",
      "==================================================\n",
      "✅ No overlap between Training and Validation\n",
      "✅ No overlap between Training and Testing\n",
      "✅ No overlap between Validation and Testing\n",
      "\n",
      "==================================================\n",
      "               UNIQUE LABELS\n",
      "==================================================\n",
      "\n",
      "| Dataset      | Total Unique Labels |\n",
      "|------------|-------------------|\n",
      "| 🔵 Training |              7792 |\n",
      "| 🟡 Valid    |              1879 |\n",
      "| 🟢 Test     |               965 |\n",
      "\n",
      "==================================================\n"
     ]
    }
   ],
   "source": [
    "from EXP2fullprogress import verify_dataset\n",
    "\n",
    "verify_dataset(main_output_dir)\n",
    "\n"
   ]
  }
 ],
 "metadata": {
  "kernelspec": {
   "display_name": "sbatch2",
   "language": "python",
   "name": "python3"
  },
  "language_info": {
   "codemirror_mode": {
    "name": "ipython",
    "version": 3
   },
   "file_extension": ".py",
   "mimetype": "text/x-python",
   "name": "python",
   "nbconvert_exporter": "python",
   "pygments_lexer": "ipython3",
   "version": "3.10.13"
  }
 },
 "nbformat": 4,
 "nbformat_minor": 2
}
