{
 "cells": [
  {
   "cell_type": "code",
   "execution_count": 1,
   "metadata": {},
   "outputs": [
    {
     "name": "stdout",
     "output_type": "stream",
     "text": [
      "\n",
      "--- Generating images for task: 10 ---\n",
      "Task 10 generation completed with 16659 iterations.\n",
      "\n",
      "--- Generating images for task: 100 ---\n",
      "Task 100 generation completed with 16722 iterations.\n",
      "\n",
      "--- Generating images for task: 1000 ---\n",
      "Task 1000 generation completed with 16705 iterations.\n",
      "Saving train dataset. Example entry: {'id': '01e09bc5-e30b-45d5-a2bc-ff863cf32363', 'image': 'images/10_01e09bc5-e30b-45d5-a2bc-ff863cf32363.jpg', 'task': '10', 'question': 'Please estimate how many dots were added to the initial 10 dots. The answer must be within the range of 1 to 10. Number only. No explanation.', 'value': 3.0}\n",
      "Train dataset saved as 'train_dataset.json' in './checkingoverlap/json'\n",
      "Saving val dataset. Example entry: {'id': '0ec1999e-6fde-4812-af0f-8b63142a502a', 'image': 'images/10_0ec1999e-6fde-4812-af0f-8b63142a502a.jpg', 'task': '10', 'question': 'Please estimate how many dots were added to the initial 10 dots. The answer must be within the range of 1 to 10. Number only. No explanation.', 'value': 5.0}\n",
      "Val dataset saved as 'val_dataset.json' in './checkingoverlap/json'\n",
      "Saving test dataset. Example entry: {'id': 'dce02924-18cb-4e16-86b7-a7ad5950ea5a', 'image': 'images/10_dce02924-18cb-4e16-86b7-a7ad5950ea5a.jpg', 'task': '10', 'question': 'Please estimate how many dots were added to the initial 10 dots. The answer must be within the range of 1 to 10. Number only. No explanation.', 'value': 9.0}\n",
      "Test dataset saved as 'test_dataset.json' in './checkingoverlap/json'\n",
      "Saving train dataset. Example entry: {'id': '01e09bc5-e30b-45d5-a2bc-ff863cf32363', 'image': 'images/10_01e09bc5-e30b-45d5-a2bc-ff863cf32363.jpg', 'task': '10', 'question': 'Please estimate how many dots were added to the initial 10 dots. The answer must be within the range of 1 to 10. Number only. No explanation.', 'value': 3.0}\n",
      "Train dataset saved as 'train_dataset.json' in './checkingoverlap/json'\n",
      "Saving val dataset. Example entry: {'id': '0ec1999e-6fde-4812-af0f-8b63142a502a', 'image': 'images/10_0ec1999e-6fde-4812-af0f-8b63142a502a.jpg', 'task': '10', 'question': 'Please estimate how many dots were added to the initial 10 dots. The answer must be within the range of 1 to 10. Number only. No explanation.', 'value': 5.0}\n",
      "Val dataset saved as 'val_dataset.json' in './checkingoverlap/json'\n",
      "Saving test dataset. Example entry: {'id': 'dce02924-18cb-4e16-86b7-a7ad5950ea5a', 'image': 'images/10_dce02924-18cb-4e16-86b7-a7ad5950ea5a.jpg', 'task': '10', 'question': 'Please estimate how many dots were added to the initial 10 dots. The answer must be within the range of 1 to 10. Number only. No explanation.', 'value': 9.0}\n",
      "Test dataset saved as 'test_dataset.json' in './checkingoverlap/json'\n"
     ]
    }
   ],
   "source": [
    "from EXP5fullprogress import generate_dataset_exp5\n",
    "\n",
    "main_output_dir=\"./checkingoverlap\"\n",
    "\n",
    "images_per_task = 5000\n",
    "\n",
    "generate_dataset_exp5(main_output_dir, images_per_task)"
   ]
  },
  {
   "cell_type": "code",
   "execution_count": null,
   "metadata": {},
   "outputs": [
    {
     "name": "stdout",
     "output_type": "stream",
     "text": [
      "\n",
      "==================================================\n",
      "               DATASET SUMMARY\n",
      "==================================================\n",
      "\n",
      "📊 Total Images per Dataset:\n",
      "----------------------------------------\n",
      "🔵 Training:    10,000 images\n",
      "🟡 Validation:  2,000 images\n",
      "🟢 Testing:     1,000 images\n",
      "📈 Total:       13,000 images\n",
      "\n",
      "==================================================\n",
      "               TASK DISTRIBUTION\n",
      "==================================================\n",
      "\n",
      "| Dataset      | Task                   | Image Count |\n",
      "|------------|------------------------|-------------|\n",
      "| 🔵 Training | pie                    |        5000 |\n",
      "| 🔵 Training | bar                    |        5000 |\n",
      "| 🟡 Valid    | pie                    |        1000 |\n",
      "| 🟡 Valid    | bar                    |        1000 |\n",
      "| 🟢 Test     | pie                    |         500 |\n",
      "| 🟢 Test     | bar                    |         500 |\n",
      "\n",
      "==================================================\n",
      "               OVERLAP ANALYSIS\n",
      "==================================================\n",
      "✅ No overlap between Training and Validation\n",
      "✅ No overlap between Training and Testing\n",
      "✅ No overlap between Validation and Testing\n",
      "\n",
      "==================================================\n",
      "               UNIQUE LABELS\n",
      "==================================================\n",
      "\n",
      "| Dataset      | Total Unique Labels |\n",
      "|------------|-------------------|\n",
      "| 🔵 Training |              7792 |\n",
      "| 🟡 Valid    |              1879 |\n",
      "| 🟢 Test     |               965 |\n",
      "\n",
      "==================================================\n"
     ]
    }
   ],
   "source": [
    "from EXP2fullprogress import verify_dataset\n",
    "\n",
    "verify_dataset(main_output_dir)\n"
   ]
  }
 ],
 "metadata": {
  "kernelspec": {
   "display_name": "Python 3 (ipykernel)",
   "language": "python",
   "name": "python3"
  },
  "language_info": {
   "codemirror_mode": {
    "name": "ipython",
    "version": 3
   },
   "file_extension": ".py",
   "mimetype": "text/x-python",
   "name": "python",
   "nbconvert_exporter": "python",
   "pygments_lexer": "ipython3",
   "version": "3.10.13"
  }
 },
 "nbformat": 4,
 "nbformat_minor": 2
}
