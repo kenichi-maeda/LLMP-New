{
 "cells": [
  {
   "cell_type": "code",
   "execution_count": 1,
   "metadata": {},
   "outputs": [
    {
     "name": "stdout",
     "output_type": "stream",
     "text": [
      "\n",
      "--- Generating images for task: 10 ---\n",
      "Task 10 generation completed with 16532 iterations.\n",
      "\n",
      "--- Generating images for task: 100 ---\n",
      "Task 100 generation completed with 16836 iterations.\n",
      "\n",
      "--- Generating images for task: 1000 ---\n",
      "Task 1000 generation completed with 16506 iterations.\n",
      "Saving train dataset. Example entry: {'id': '841542f2-e8b5-4363-8a1c-57defe564a65', 'image': 'images/10_841542f2-e8b5-4363-8a1c-57defe564a65.jpg', 'task': '10', 'question': 'Please estimate how many dots were added to the initial 10 dots. The answer must be within the range of 1 to 10. Number only. No explanation.', 'value': 8.0}\n",
      "Train dataset saved as 'train_dataset.json' in './checkingoverlap/json'\n",
      "Saving val dataset. Example entry: {'id': 'bea69856-5ca7-4633-a07b-0de1f31c0443', 'image': 'images/10_bea69856-5ca7-4633-a07b-0de1f31c0443.jpg', 'task': '10', 'question': 'Please estimate how many dots were added to the initial 10 dots. The answer must be within the range of 1 to 10. Number only. No explanation.', 'value': 3.0}\n",
      "Val dataset saved as 'val_dataset.json' in './checkingoverlap/json'\n",
      "Saving test dataset. Example entry: {'id': '5e3b71e6-cf8b-46e0-b0a8-948f937b12f8', 'image': 'images/10_5e3b71e6-cf8b-46e0-b0a8-948f937b12f8.jpg', 'task': '10', 'question': 'Please estimate how many dots were added to the initial 10 dots. The answer must be within the range of 1 to 10. Number only. No explanation.', 'value': 4.0}\n",
      "Test dataset saved as 'test_dataset.json' in './checkingoverlap/json'\n",
      "Saving train dataset. Example entry: {'id': '841542f2-e8b5-4363-8a1c-57defe564a65', 'image': 'images/10_841542f2-e8b5-4363-8a1c-57defe564a65.jpg', 'task': '10', 'question': 'Please estimate how many dots were added to the initial 10 dots. The answer must be within the range of 1 to 10. Number only. No explanation.', 'value': 8.0}\n",
      "Train dataset saved as 'train_dataset.json' in './checkingoverlap/json'\n",
      "Saving val dataset. Example entry: {'id': 'bea69856-5ca7-4633-a07b-0de1f31c0443', 'image': 'images/10_bea69856-5ca7-4633-a07b-0de1f31c0443.jpg', 'task': '10', 'question': 'Please estimate how many dots were added to the initial 10 dots. The answer must be within the range of 1 to 10. Number only. No explanation.', 'value': 3.0}\n",
      "Val dataset saved as 'val_dataset.json' in './checkingoverlap/json'\n",
      "Saving test dataset. Example entry: {'id': '5e3b71e6-cf8b-46e0-b0a8-948f937b12f8', 'image': 'images/10_5e3b71e6-cf8b-46e0-b0a8-948f937b12f8.jpg', 'task': '10', 'question': 'Please estimate how many dots were added to the initial 10 dots. The answer must be within the range of 1 to 10. Number only. No explanation.', 'value': 4.0}\n",
      "Test dataset saved as 'test_dataset.json' in './checkingoverlap/json'\n"
     ]
    }
   ],
   "source": [
    "from EXP5fullprogress import generate_dataset_exp5\n",
    "\n",
    "main_output_dir=\"./checkingoverlap\"\n",
    "\n",
    "images_per_task = 5000\n",
    "\n",
    "generate_dataset_exp5(main_output_dir, images_per_task)"
   ]
  },
  {
   "cell_type": "code",
   "execution_count": 2,
   "metadata": {},
   "outputs": [
    {
     "name": "stdout",
     "output_type": "stream",
     "text": [
      "\n",
      "==================================================\n",
      "               DATASET SUMMARY\n",
      "==================================================\n",
      "\n",
      "📊 Total Images per Dataset:\n",
      "----------------------------------------\n",
      "🔵 Training:    15,000 images\n",
      "🟡 Validation:  3,000 images\n",
      "🟢 Testing:     1,500 images\n",
      "📈 Total:       19,500 images\n",
      "\n",
      "==================================================\n",
      "               TASK DISTRIBUTION\n",
      "==================================================\n",
      "\n",
      "| Dataset      | Task                   | Image Count |\n",
      "|------------|------------------------|-------------|\n",
      "| 🔵 Training | 10                     |        5000 |\n",
      "| 🔵 Training | 100                    |        5000 |\n",
      "| 🔵 Training | 1000                   |        5000 |\n",
      "| 🟡 Valid    | 10                     |        1000 |\n",
      "| 🟡 Valid    | 100                    |        1000 |\n",
      "| 🟡 Valid    | 1000                   |        1000 |\n",
      "| 🟢 Test     | 10                     |         500 |\n",
      "| 🟢 Test     | 100                    |         500 |\n",
      "| 🟢 Test     | 1000                   |         500 |\n",
      "\n",
      "==================================================\n",
      "               OVERLAP ANALYSIS\n",
      "==================================================\n",
      "✅ No overlap between Training and Validation\n",
      "✅ No overlap between Training and Testing\n",
      "✅ No overlap between Validation and Testing\n",
      "\n",
      "==================================================\n",
      "               UNIQUE LABELS\n",
      "==================================================\n",
      "\n",
      "| Dataset      | Total Unique Labels |\n",
      "|------------|-------------------|\n",
      "| 🔵 Training |                 3 |\n",
      "| 🟡 Valid    |                 3 |\n",
      "| 🟢 Test     |                 4 |\n",
      "\n",
      "==================================================\n"
     ]
    }
   ],
   "source": [
    "from EXP5fullprogress import verify_dataset\n",
    "\n",
    "verify_dataset(main_output_dir)\n"
   ]
  }
 ],
 "metadata": {
  "kernelspec": {
   "display_name": "sbatch2",
   "language": "python",
   "name": "python3"
  },
  "language_info": {
   "codemirror_mode": {
    "name": "ipython",
    "version": 3
   },
   "file_extension": ".py",
   "mimetype": "text/x-python",
   "name": "python",
   "nbconvert_exporter": "python",
   "pygments_lexer": "ipython3",
   "version": "3.10.13"
  }
 },
 "nbformat": 4,
 "nbformat_minor": 2
}
